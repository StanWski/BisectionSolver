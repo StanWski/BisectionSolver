{
 "cells": [
  {
   "cell_type": "code",
   "execution_count": 139,
   "metadata": {},
   "outputs": [],
   "source": [
    "import numpy as np\n",
    "import math"
   ]
  },
  {
   "cell_type": "markdown",
   "metadata": {},
   "source": [
    "Define f(x) as any function. e.g. \n",
    "$f(x) = x^2 - 4$\n"
   ]
  },
  {
   "cell_type": "markdown",
   "metadata": {},
   "source": [
    "def f(x):\n",
    "    y = (x**2) - 4\n",
    "    return y\n"
   ]
  },
  {
   "cell_type": "markdown",
   "metadata": {},
   "source": [
    "$f(x) = x^3 + \\sin(x) - \\ln(x + 2)$\n"
   ]
  },
  {
   "cell_type": "code",
   "execution_count": 140,
   "metadata": {},
   "outputs": [],
   "source": [
    "def f(x):\n",
    "    y = x**3 + math.sin(x) - math.log(x+2)\n",
    "    return y "
   ]
  },
  {
   "cell_type": "markdown",
   "metadata": {},
   "source": [
    "Function to calculate c (midpoint)."
   ]
  },
  {
   "cell_type": "code",
   "execution_count": 141,
   "metadata": {},
   "outputs": [],
   "source": [
    "def CalculateC(a,b):\n",
    "    c = (a+b)/2\n",
    "    return c"
   ]
  },
  {
   "cell_type": "markdown",
   "metadata": {},
   "source": [
    "Define function to see if $f(c)$ is positive or negative."
   ]
  },
  {
   "cell_type": "code",
   "execution_count": 142,
   "metadata": {},
   "outputs": [],
   "source": [
    "def SignCheck(x):\n",
    "    if x > 0:\n",
    "        return True\n",
    "    return False"
   ]
  },
  {
   "cell_type": "markdown",
   "metadata": {},
   "source": [
    "Define main program."
   ]
  },
  {
   "cell_type": "code",
   "execution_count": 143,
   "metadata": {},
   "outputs": [
    {
     "name": "stdout",
     "output_type": "stream",
     "text": [
      "The root is at x = 0.7032260290571815 witin accuracy of +- 1e-15. It took 49 iterations\n"
     ]
    }
   ],
   "source": [
    "def Main():\n",
    "    a = 0  #choose start point\n",
    "    b = 1   #choose end point\n",
    "    c = CalculateC(a,b)\n",
    "    tol = 0.000000000000001   #define tolarance\n",
    "    MaxI = 100000   #define maximum number of iterations\n",
    "    i = 0\n",
    "    while (abs(f(c)) > tol and i < MaxI):\n",
    "        i+=1\n",
    "        if SignCheck(f(c)) == SignCheck(f(a)):\n",
    "            a = c \n",
    "        else:\n",
    "            b = c\n",
    "        c = CalculateC(a,b)\n",
    "    if i == MaxI:\n",
    "        print(\"Root not found withing max iterations.\")\n",
    "    else:\n",
    "        print(f\"The root is at x = {c} witin accuracy of +- {tol}. It took {i} iterations\")\n",
    "Main()\n",
    "            \n",
    "        "
   ]
  }
 ],
 "metadata": {
  "kernelspec": {
   "display_name": "maths",
   "language": "python",
   "name": "python3"
  },
  "language_info": {
   "codemirror_mode": {
    "name": "ipython",
    "version": 3
   },
   "file_extension": ".py",
   "mimetype": "text/x-python",
   "name": "python",
   "nbconvert_exporter": "python",
   "pygments_lexer": "ipython3",
   "version": "3.13.1"
  }
 },
 "nbformat": 4,
 "nbformat_minor": 2
}
